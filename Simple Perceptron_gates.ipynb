{
 "cells": [
  {
   "cell_type": "markdown",
   "metadata": {},
   "source": [
    "## Basics :\n",
    "###  gates :\n",
    "By using Neural Network , we are going to predict the values of the given  gate values"
   ]
  },
  {
   "cell_type": "markdown",
   "metadata": {},
   "source": [
    "1. Randomly initialize the weights                         \n",
    "2. Implement forward propagation to get hΘ(x(i))                 \n",
    "3. Implement the cost function                       \n",
    "4. Implement backpropagation to compute partial derivatives                        "
   ]
  },
  {
   "cell_type": "code",
   "execution_count": 210,
   "metadata": {},
   "outputs": [],
   "source": [
    "#importing the libraries\n",
    "import numpy as np    #for linear Algebra\n",
    "import pandas as pd   #for data processing\n",
    "import matplotlib.pyplot as plt  #for data visualization "
   ]
  },
  {
   "cell_type": "code",
   "execution_count": 211,
   "metadata": {},
   "outputs": [],
   "source": [
    "#we need to find the value for that input\n",
    "AND = {'Input' : ['0 0 1','0 1 1','1 0 1','1 1 1','1 0 0'],\n",
    "       'Output': [0 ,0 ,1 ,1 ,'?']}\n",
    "\n",
    "X = pd.DataFrame(AND , index = ['x0','x1','x2','x3','xnew'])"
   ]
  },
  {
   "cell_type": "code",
   "execution_count": 212,
   "metadata": {},
   "outputs": [
    {
     "data": {
      "text/html": [
       "<div>\n",
       "<style scoped>\n",
       "    .dataframe tbody tr th:only-of-type {\n",
       "        vertical-align: middle;\n",
       "    }\n",
       "\n",
       "    .dataframe tbody tr th {\n",
       "        vertical-align: top;\n",
       "    }\n",
       "\n",
       "    .dataframe thead th {\n",
       "        text-align: right;\n",
       "    }\n",
       "</style>\n",
       "<table border=\"1\" class=\"dataframe\">\n",
       "  <thead>\n",
       "    <tr style=\"text-align: right;\">\n",
       "      <th></th>\n",
       "      <th>Input</th>\n",
       "      <th>Output</th>\n",
       "    </tr>\n",
       "  </thead>\n",
       "  <tbody>\n",
       "    <tr>\n",
       "      <th>x0</th>\n",
       "      <td>0 0 1</td>\n",
       "      <td>0</td>\n",
       "    </tr>\n",
       "    <tr>\n",
       "      <th>x1</th>\n",
       "      <td>0 1 1</td>\n",
       "      <td>0</td>\n",
       "    </tr>\n",
       "    <tr>\n",
       "      <th>x2</th>\n",
       "      <td>1 0 1</td>\n",
       "      <td>1</td>\n",
       "    </tr>\n",
       "    <tr>\n",
       "      <th>x3</th>\n",
       "      <td>1 1 1</td>\n",
       "      <td>1</td>\n",
       "    </tr>\n",
       "    <tr>\n",
       "      <th>xnew</th>\n",
       "      <td>1 0 0</td>\n",
       "      <td>?</td>\n",
       "    </tr>\n",
       "  </tbody>\n",
       "</table>\n",
       "</div>"
      ],
      "text/plain": [
       "      Input Output\n",
       "x0    0 0 1      0\n",
       "x1    0 1 1      0\n",
       "x2    1 0 1      1\n",
       "x3    1 1 1      1\n",
       "xnew  1 0 0      ?"
      ]
     },
     "execution_count": 212,
     "metadata": {},
     "output_type": "execute_result"
    }
   ],
   "source": [
    "X"
   ]
  },
  {
   "cell_type": "code",
   "execution_count": 213,
   "metadata": {},
   "outputs": [],
   "source": [
    "#Sigmoid graph\n",
    "def sigmoid(x):\n",
    "    a = []\n",
    "    for i in x:\n",
    "        a.append(1/(1+np.exp(-i)))\n",
    "    return a\n",
    "\n"
   ]
  },
  {
   "cell_type": "code",
   "execution_count": 214,
   "metadata": {},
   "outputs": [
    {
     "data": {
      "image/png": "[encoded data removed]",
      "text/plain": [
       "<Figure size 432x288 with 1 Axes>"
      ]
     },
     "metadata": {
      "needs_background": "light"
     },
     "output_type": "display_data"
    }
   ],
   "source": [
    "x = np.arange(-20,20,0.2)\n",
    "sig = sigmoid(x)\n",
    "deriv = sigmoid_deriv(sig)\n",
    "plt.plot(x,sig)\n",
    "plt.show()\n",
    "\n"
   ]
  },
  {
   "cell_type": "code",
   "execution_count": 215,
   "metadata": {},
   "outputs": [],
   "source": [
    "#sigmoid function\n",
    "def sigmoid_fn(X, derivative = False):\n",
    "    if derivative == True:\n",
    "        return X * (1-X)\n",
    "    return 1/(1+np.exp(-X))"
   ]
  },
  {
   "cell_type": "code",
   "execution_count": 227,
   "metadata": {},
   "outputs": [],
   "source": [
    "#Inputs X\n",
    "X = np.array([[0,0,1],\n",
    "              [0,1,1],\n",
    "              [1,0,1],\n",
    "              [1,1,1]])\n",
    "\n",
    "#outputs y\n",
    "y = np.array([[0,0,1,1]]).T"
   ]
  },
  {
   "cell_type": "code",
   "execution_count": 228,
   "metadata": {},
   "outputs": [],
   "source": [
    "#initializing random weights first\n",
    "np.random.seed(1)\n",
    "weights = 2*np.random.random((3,1))-1 "
   ]
  },
  {
   "cell_type": "code",
   "execution_count": 230,
   "metadata": {},
   "outputs": [
    {
     "name": "stdout",
     "output_type": "stream",
     "text": [
      "iteration :  19999\n",
      "sigmoid output (g(z)) :  [[0.02567747]\n",
      " [0.02082646]\n",
      " [0.98306535]\n",
      " [0.9791015 ]]\n",
      "error :  [[-0.02567747]\n",
      " [-0.02082646]\n",
      " [ 0.01693465]\n",
      " [ 0.0208985 ]]\n",
      "a1_delta :  [[-0.0006424 ]\n",
      " [-0.00042471]\n",
      " [ 0.00028193]\n",
      " [ 0.00042762]]\n",
      "weights updated :  [[ 7.69815195]\n",
      " [-0.21435302]\n",
      " [-3.63648618]]\n",
      "\n",
      "iteration :  19999\n",
      "sigmoid output (g(z)) :  [[0.0165433 ]\n",
      " [0.01343921]\n",
      " [0.98905745]\n",
      " [0.98652214]]\n",
      "error :  [[-0.0165433 ]\n",
      " [-0.01343921]\n",
      " [ 0.01094255]\n",
      " [ 0.01347786]]\n",
      "a1_delta :  [[-0.00026915]\n",
      " [-0.00017819]\n",
      " [ 0.00011843]\n",
      " [ 0.0001792 ]]\n",
      "weights updated :  [[ 8.58948367]\n",
      " [-0.21095492]\n",
      " [-4.08524209]]\n",
      "\n",
      "iteration :  19999\n",
      "sigmoid output (g(z)) :  [[0.01311479]\n",
      " [0.01066279]\n",
      " [0.99131339]\n",
      " [0.98931091]]\n",
      "error :  [[-0.01311479]\n",
      " [-0.01066279]\n",
      " [ 0.00868661]\n",
      " [ 0.01068909]]\n",
      "a1_delta :  [[-1.69742122e-04]\n",
      " [-1.12482701e-04]\n",
      " [ 7.48018102e-05]\n",
      " [ 1.13035432e-04]]\n",
      "weights updated :  [[ 9.058248  ]\n",
      " [-0.20946217]\n",
      " [-4.32090716]]\n",
      "\n",
      "iteration :  19999\n",
      "sigmoid output (g(z)) :  [[0.01119091]\n",
      " [0.0091033 ]\n",
      " [0.99258153]\n",
      " [0.99087673]]\n",
      "error :  [[-0.01119091]\n",
      " [-0.0091033 ]\n",
      " [ 0.00741847]\n",
      " [ 0.00912327]]\n",
      "a1_delta :  [[-1.23835027e-04]\n",
      " [-8.21156771e-05]\n",
      " [ 5.46254447e-05]\n",
      " [ 8.24746600e-05]]\n",
      "weights updated :  [[ 9.37787244]\n",
      " [-0.20857381]\n",
      " [-4.481468  ]]\n",
      "\n",
      "iteration :  19999\n",
      "sigmoid output (g(z)) :  [[0.00991981]\n",
      " [0.00807224]\n",
      " [0.99342038]\n",
      " [0.99191166]]\n",
      "error :  [[-0.00991981]\n",
      " [-0.00807224]\n",
      " [ 0.00657962]\n",
      " [ 0.00808834]]\n",
      "a1_delta :  [[-9.74265238e-05]\n",
      " [-6.46350343e-05]\n",
      " [ 4.30065186e-05]\n",
      " [ 6.48921728e-05]]\n",
      "weights updated :  [[ 9.62053731]\n",
      " [-0.20796721]\n",
      " [-4.60330618]]\n",
      "\n"
     ]
    }
   ],
   "source": [
    "#Implemening forward propogation\n",
    "for epoch in range(10000):\n",
    "    a0 = X\n",
    "    a0_dot_weights = np.dot(a0 , weights)  #activation dot product \n",
    "    a1 = sigmoid_fn(a0_dot_weights) #completed forward propogation\n",
    "    \n",
    "    #backward propogation\n",
    "    a1_error = y - a1  #getting the error of last layer\n",
    "    \n",
    "    a1_delta = a1_error * sigmoid_fn(a1 , derivative = True)     #updating weight here\n",
    "    \n",
    "    weights = weights + np.dot(a0.T,a1_delta)   \n",
    "    \n",
    "    if epoch % 2000 == 0:\n",
    "        print('iteration : ',i)\n",
    "        print('sigmoid output (g(z)) : ',a1)\n",
    "        print('error : ',a1_error)\n",
    "        print('a1_delta : ',a1_delta)\n",
    "        print('weights updated : ',weights)\n",
    "        print()\n",
    "    \n",
    "    \n",
    "    "
   ]
  },
  {
   "cell_type": "code",
   "execution_count": 231,
   "metadata": {},
   "outputs": [],
   "source": [
    "test = np.array([1,0,0])\n",
    "a0_dot_weight = np.dot(test , weights)\n",
    "y = sigmoid_fn(a0_dot_weight)"
   ]
  },
  {
   "cell_type": "code",
   "execution_count": 232,
   "metadata": {},
   "outputs": [
    {
     "data": {
      "text/plain": [
       "array([0.99994543])"
      ]
     },
     "execution_count": 232,
     "metadata": {},
     "output_type": "execute_result"
    }
   ],
   "source": [
    "y"
   ]
  },
  {
   "cell_type": "markdown",
   "metadata": {},
   "source": [
    "If the value is 1, 0, 0 then the output will be 1"
   ]
  },
  {
   "cell_type": "code",
   "execution_count": null,
   "metadata": {},
   "outputs": [],
   "source": []
  }
 ],
 "metadata": {
  "kernelspec": {
   "display_name": "Python 3",
   "language": "python",
   "name": "python3"
  },
  "language_info": {
   "codemirror_mode": {
    "name": "ipython",
    "version": 3
   },
   "file_extension": ".py",
   "mimetype": "text/x-python",
   "name": "python",
   "nbconvert_exporter": "python",
   "pygments_lexer": "ipython3",
   "version": "3.7.1"
  }
 },
 "nbformat": 4,
 "nbformat_minor": 2
}
