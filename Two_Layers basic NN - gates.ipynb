{
 "cells": [
  {
   "cell_type": "markdown",
   "metadata": {},
   "source": [
    "## AND gate : \n",
    "two-layer neural network"
   ]
  },
  {
   "cell_type": "code",
   "execution_count": 409,
   "metadata": {},
   "outputs": [],
   "source": [
    "import numpy as np\n",
    "import time\n",
    "import matplotlib.pyplot as plt"
   ]
  },
  {
   "cell_type": "code",
   "execution_count": 410,
   "metadata": {},
   "outputs": [],
   "source": [
    "#Units or neurons in Inputlayers ,hiddenlayers and output layer\n",
    "num_in = 10\n",
    "num_hidd = 10\n",
    "num_out = 10\n",
    "n_sample = 300"
   ]
  },
  {
   "cell_type": "code",
   "execution_count": 411,
   "metadata": {},
   "outputs": [],
   "source": [
    "#Hyperparameters\n",
    "learning_rate = 0.01\n",
    "momentum = 0.9"
   ]
  },
  {
   "cell_type": "code",
   "execution_count": 412,
   "metadata": {},
   "outputs": [],
   "source": [
    "#random seed\n",
    "np.random.seed(1)"
   ]
  },
  {
   "cell_type": "code",
   "execution_count": 413,
   "metadata": {},
   "outputs": [],
   "source": [
    "#sigmoid activation function (changing numbers to probability values (btw 0 and 1))   - for layer 1\n",
    "def sigmoid(X):\n",
    "    return 1/(1 + np.exp(-X))"
   ]
  },
  {
   "cell_type": "code",
   "execution_count": 414,
   "metadata": {},
   "outputs": [
    {
     "data": {
      "image/png": "[encoded data removed]",
      "text/plain": [
       "<Figure size 432x288 with 1 Axes>"
      ]
     },
     "metadata": {
      "needs_background": "light"
     },
     "output_type": "display_data"
    }
   ],
   "source": [
    "X = np.arange(-10,10,0.2)\n",
    "sig = sigmoid(X)\n",
    "plt.plot(X,sig)\n",
    "plt.grid(True)\n",
    "plt.show()\n"
   ]
  },
  {
   "cell_type": "code",
   "execution_count": 415,
   "metadata": {},
   "outputs": [],
   "source": [
    "#tangent prime activation function (derivative of sigmoid function)  -for layer 2 \n",
    "def tanh_prime(X):\n",
    "    return 1-np.tanh(X) ** 2"
   ]
  },
  {
   "cell_type": "code",
   "execution_count": 416,
   "metadata": {},
   "outputs": [
    {
     "data": {
      "image/png": "[encoded data removed]",
      "text/plain": [
       "<Figure size 432x288 with 1 Axes>"
      ]
     },
     "metadata": {
      "needs_background": "light"
     },
     "output_type": "display_data"
    }
   ],
   "source": [
    "tan = tanh_prime(X)\n",
    "plt.plot(X,tan)\n",
    "plt.grid(True)\n",
    "plt.show()"
   ]
  },
  {
   "cell_type": "code",
   "execution_count": 417,
   "metadata": {},
   "outputs": [],
   "source": [
    "#Training function\n",
    "def train(X,exp_output,V,W,bV,bW):   #input,transspose,layer1,layer2,Biases\n",
    "    #(first layer contains input values (features)\n",
    "    \n",
    "    #forward propogation (compute activation values of the output)\n",
    "    Theta1 = np.dot(X,V) + bV\n",
    "    Z = np.tanh(Theta1) #did second layer(tangent prime) \n",
    "    Theta2 = np.dot(Z,W) + bW\n",
    "    pred_output = sigmoid(Theta2) #did output layer(Sigmoid function)\n",
    "    \n",
    "    #Backward Propogation\n",
    "    EW = pred_output - exp_output           #Error in the last layer (output) \n",
    "    EV = tanh_prime(Theta1) * np.dot(W,EW)    #Error in the second layer (Hidden)\n",
    "    \n",
    "    dW = np.outer(Z,EW)   #predicting loss\n",
    "    dV = np.outer(X,EV)\n",
    "    \n",
    "    #loss (cross entropy) - classification\n",
    "    loss = -np.mean(exp_output * np.log(pred_output) + (1 - exp_output) * np.log(1-pred_output))\n",
    "    \n",
    "    return loss, (dV,dW,EV,EW)\n",
    "    "
   ]
  },
  {
   "cell_type": "code",
   "execution_count": 418,
   "metadata": {},
   "outputs": [],
   "source": [
    "def predict(X,V,W,bV,bW) : #input , layer1 , layer2 , biases\n",
    "    Theta1 = np.dot(X,V) + bV  #parameters for layer1 - second\n",
    "    Theta2 = np.dot(np.tanh(Theta1),W) + bW #parameters for layer2 - Last layer\n",
    "    \n",
    "    return (sigmoid(Theta2) > 0.5).astype(int)     #returns if value is greater than 0.5 its 1 else its 0 ... (Threshold = 0.5)"
   ]
  },
  {
   "cell_type": "code",
   "execution_count": 419,
   "metadata": {},
   "outputs": [],
   "source": [
    "#creating the layers (V,W)...\n",
    "V = np.random.normal(scale=0.1 , size = (num_in,num_hidd))\n",
    "W = np.random.normal(scale=0.1 , size = (num_hidd,num_out))"
   ]
  },
  {
   "cell_type": "code",
   "execution_count": 420,
   "metadata": {},
   "outputs": [],
   "source": [
    "#biasesc initaialization\n",
    "bV = np.zeros(num_hidd)\n",
    "bW = np.zeros(num_out)"
   ]
  },
  {
   "cell_type": "code",
   "execution_count": 421,
   "metadata": {},
   "outputs": [],
   "source": [
    "#putt9ng all together\n",
    "params = [V,W,bV,bW]"
   ]
  },
  {
   "cell_type": "code",
   "execution_count": 422,
   "metadata": {},
   "outputs": [],
   "source": [
    "#params"
   ]
  },
  {
   "cell_type": "code",
   "execution_count": 432,
   "metadata": {},
   "outputs": [],
   "source": [
    "#generating input data\n",
    "X = np.random.binomial(1,0.5,(n_sample,num_in))\n",
    "y = X & 1\n"
   ]
  },
  {
   "cell_type": "code",
   "execution_count": null,
   "metadata": {},
   "outputs": [],
   "source": []
  },
  {
   "cell_type": "code",
   "execution_count": 433,
   "metadata": {},
   "outputs": [
    {
     "name": "stdout",
     "output_type": "stream",
     "text": [
      "Epoch : 0 , loss : 0.60987819 , time : 0.002005s\n",
      "Epoch : 1 , loss : 0.56672755 , time : 0.001496s\n",
      "Epoch : 2 , loss : 0.54430466 , time : 0.002144s\n",
      "Epoch : 3 , loss : 0.53471479 , time : 0.001094s\n",
      "Epoch : 4 , loss : 0.49011517 , time : 0.001180s\n",
      "Epoch : 5 , loss : 0.46304268 , time : 0.001026s\n",
      "Epoch : 6 , loss : 0.42141049 , time : 0.000958s\n",
      "Epoch : 7 , loss : 0.40073810 , time : 0.001179s\n",
      "Epoch : 8 , loss : 0.37833761 , time : 0.001191s\n",
      "Epoch : 9 , loss : 0.36408756 , time : 0.000927s\n",
      "Epoch : 10 , loss : 0.34694487 , time : 0.000997s\n",
      "Epoch : 11 , loss : 0.33425552 , time : 0.000915s\n",
      "Epoch : 12 , loss : 0.31955464 , time : 0.001143s\n",
      "Epoch : 13 , loss : 0.30741148 , time : 0.000807s\n",
      "Epoch : 14 , loss : 0.29448657 , time : 0.001069s\n",
      "Epoch : 15 , loss : 0.28280156 , time : 0.001392s\n",
      "Epoch : 16 , loss : 0.27140694 , time : 0.000853s\n",
      "Epoch : 17 , loss : 0.26052424 , time : 0.002660s\n",
      "Epoch : 18 , loss : 0.25046601 , time : 0.000984s\n",
      "Epoch : 19 , loss : 0.24070229 , time : 0.001204s\n",
      "Epoch : 20 , loss : 0.23179907 , time : 0.001739s\n",
      "Epoch : 21 , loss : 0.22322062 , time : 0.001193s\n",
      "Epoch : 22 , loss : 0.21534842 , time : 0.000896s\n",
      "Epoch : 23 , loss : 0.20788507 , time : 0.000952s\n",
      "Epoch : 24 , loss : 0.20098926 , time : 0.000872s\n",
      "Epoch : 25 , loss : 0.19452996 , time : 0.000974s\n",
      "Epoch : 26 , loss : 0.18852269 , time : 0.000869s\n",
      "Epoch : 27 , loss : 0.18289836 , time : 0.000903s\n",
      "Epoch : 28 , loss : 0.17762515 , time : 0.000817s\n",
      "Epoch : 29 , loss : 0.17266095 , time : 0.000883s\n",
      "Epoch : 30 , loss : 0.16797517 , time : 0.000814s\n",
      "Epoch : 31 , loss : 0.16354097 , time : 0.001473s\n",
      "Epoch : 32 , loss : 0.15933661 , time : 0.001667s\n",
      "Epoch : 33 , loss : 0.15534372 , time : 0.001109s\n",
      "Epoch : 34 , loss : 0.15154659 , time : 0.000784s\n",
      "Epoch : 35 , loss : 0.14793150 , time : 0.000853s\n",
      "Epoch : 36 , loss : 0.14448626 , time : 0.000793s\n",
      "Epoch : 37 , loss : 0.14119993 , time : 0.000853s\n",
      "Epoch : 38 , loss : 0.13806257 , time : 0.000787s\n",
      "Epoch : 39 , loss : 0.13506508 , time : 0.000849s\n",
      "Epoch : 40 , loss : 0.13219910 , time : 0.000787s\n",
      "Epoch : 41 , loss : 0.12945688 , time : 0.000850s\n",
      "Epoch : 42 , loss : 0.12683124 , time : 0.000782s\n",
      "Epoch : 43 , loss : 0.12431551 , time : 0.000904s\n",
      "Epoch : 44 , loss : 0.12190345 , time : 0.000761s\n",
      "Epoch : 45 , loss : 0.11958922 , time : 0.000899s\n",
      "Epoch : 46 , loss : 0.11736738 , time : 0.001135s\n",
      "Epoch : 47 , loss : 0.11523282 , time : 0.001825s\n",
      "Epoch : 48 , loss : 0.11318077 , time : 0.000809s\n",
      "Epoch : 49 , loss : 0.11120677 , time : 0.000774s\n",
      "Epoch : 50 , loss : 0.10930661 , time : 0.000820s\n",
      "Epoch : 51 , loss : 0.10747638 , time : 0.000763s\n",
      "Epoch : 52 , loss : 0.10571243 , time : 0.000824s\n",
      "Epoch : 53 , loss : 0.10401131 , time : 0.000753s\n",
      "Epoch : 54 , loss : 0.10236983 , time : 0.000819s\n",
      "Epoch : 55 , loss : 0.10078499 , time : 0.000750s\n",
      "Epoch : 56 , loss : 0.09925399 , time : 0.000768s\n",
      "Epoch : 57 , loss : 0.09777422 , time : 0.000750s\n",
      "Epoch : 58 , loss : 0.09634322 , time : 0.000812s\n",
      "Epoch : 59 , loss : 0.09495871 , time : 0.000820s\n",
      "Epoch : 60 , loss : 0.09361856 , time : 0.000762s\n",
      "Epoch : 61 , loss : 0.09232075 , time : 0.000899s\n",
      "Epoch : 62 , loss : 0.09106341 , time : 0.000754s\n",
      "Epoch : 63 , loss : 0.08984478 , time : 0.000835s\n",
      "Epoch : 64 , loss : 0.08866321 , time : 0.000770s\n",
      "Epoch : 65 , loss : 0.08751714 , time : 0.000835s\n",
      "Epoch : 66 , loss : 0.08640512 , time : 0.000757s\n",
      "Epoch : 67 , loss : 0.08532576 , time : 0.000857s\n",
      "Epoch : 68 , loss : 0.08427777 , time : 0.000756s\n",
      "Epoch : 69 , loss : 0.08325992 , time : 0.000877s\n",
      "Epoch : 70 , loss : 0.08227105 , time : 0.000730s\n",
      "Epoch : 71 , loss : 0.08131006 , time : 0.000872s\n",
      "Epoch : 72 , loss : 0.08037590 , time : 0.000731s\n",
      "Epoch : 73 , loss : 0.07946759 , time : 0.000744s\n",
      "Epoch : 74 , loss : 0.07858419 , time : 0.000720s\n",
      "Epoch : 75 , loss : 0.07772478 , time : 0.000786s\n",
      "Epoch : 76 , loss : 0.07688852 , time : 0.000788s\n",
      "Epoch : 77 , loss : 0.07607459 , time : 0.000712s\n",
      "Epoch : 78 , loss : 0.07528221 , time : 0.000770s\n",
      "Epoch : 79 , loss : 0.07451063 , time : 0.000711s\n",
      "Epoch : 80 , loss : 0.07375914 , time : 0.000700s\n",
      "Epoch : 81 , loss : 0.07302705 , time : 0.000724s\n",
      "Epoch : 82 , loss : 0.07231370 , time : 0.000706s\n",
      "Epoch : 83 , loss : 0.07161846 , time : 0.000699s\n",
      "Epoch : 84 , loss : 0.07094074 , time : 0.000757s\n",
      "Epoch : 85 , loss : 0.07027994 , time : 0.000687s\n",
      "Epoch : 86 , loss : 0.06963551 , time : 0.000684s\n",
      "Epoch : 87 , loss : 0.06900691 , time : 0.000746s\n",
      "Epoch : 88 , loss : 0.06839362 , time : 0.000683s\n",
      "Epoch : 89 , loss : 0.06779516 , time : 0.000701s\n",
      "Epoch : 90 , loss : 0.06721104 , time : 0.000746s\n",
      "Epoch : 91 , loss : 0.06664080 , time : 0.000668s\n",
      "Epoch : 92 , loss : 0.06608400 , time : 0.000658s\n",
      "Epoch : 93 , loss : 0.06554021 , time : 0.000704s\n",
      "Epoch : 94 , loss : 0.06500902 , time : 0.000689s\n",
      "Epoch : 95 , loss : 0.06449004 , time : 0.000678s\n",
      "Epoch : 96 , loss : 0.06398289 , time : 0.000777s\n",
      "Epoch : 97 , loss : 0.06348719 , time : 0.000693s\n",
      "Epoch : 98 , loss : 0.06300260 , time : 0.000666s\n",
      "Epoch : 99 , loss : 0.06252877 , time : 0.000759s\n"
     ]
    },
    {
     "name": "stderr",
     "output_type": "stream",
     "text": [
      "C:\\ProgramData\\Anaconda3\\lib\\site-packages\\ipykernel_launcher.py:5: DeprecationWarning: time.clock has been deprecated in Python 3.3 and will be removed from Python 3.8: use time.perf_counter or time.process_time instead\n",
      "  \"\"\"\n",
      "C:\\ProgramData\\Anaconda3\\lib\\site-packages\\ipykernel_launcher.py:15: DeprecationWarning: time.clock has been deprecated in Python 3.3 and will be removed from Python 3.8: use time.perf_counter or time.process_time instead\n",
      "  from ipykernel import kernelapp as app\n"
     ]
    }
   ],
   "source": [
    "#training time\n",
    "for epoch in range(100):\n",
    "    err = []\n",
    "    upd = [0] * len(params)\n",
    "    t0 = time.clock()\n",
    "    for i in range(X.shape[1]):\n",
    "        loss , grad = train(X[i],y[i],*params)\n",
    "        \n",
    "        for j in range(len(params)):\n",
    "            params[j] -= upd[j]\n",
    "        \n",
    "        for j in range(len(params)):\n",
    "            upd[j] = learning_rate * grad[j] + momentum * upd[j]\n",
    "        err.append(loss)\n",
    "    print('Epoch : %d , loss : %.8f , time : %fs'%(epoch , np.mean(err) , time.clock() - t0))"
   ]
  },
  {
   "cell_type": "code",
   "execution_count": 435,
   "metadata": {},
   "outputs": [
    {
     "name": "stdout",
     "output_type": "stream",
     "text": [
      "AND prediction\n",
      "[0 1 0 0 1 0 1 0 1 0]\n",
      "\n",
      "[0 1 0 1 1 1 1 0 1 1]\n"
     ]
    }
   ],
   "source": [
    "x = np.random.binomial(1,0.5,num_in)\n",
    "print('AND prediction')\n",
    "print(x)\n",
    "print()\n",
    "print(predict(x,*params))"
   ]
  },
  {
   "cell_type": "code",
   "execution_count": null,
   "metadata": {},
   "outputs": [],
   "source": []
  },
  {
   "cell_type": "code",
   "execution_count": null,
   "metadata": {},
   "outputs": [],
   "source": []
  },
  {
   "cell_type": "code",
   "execution_count": null,
   "metadata": {},
   "outputs": [],
   "source": []
  },
  {
   "cell_type": "code",
   "execution_count": null,
   "metadata": {},
   "outputs": [],
   "source": [
    "\n"
   ]
  }
 ],
 "metadata": {
  "kernelspec": {
   "display_name": "Python 3",
   "language": "python",
   "name": "python3"
  },
  "language_info": {
   "codemirror_mode": {
    "name": "ipython",
    "version": 3
   },
   "file_extension": ".py",
   "mimetype": "text/x-python",
   "name": "python",
   "nbconvert_exporter": "python",
   "pygments_lexer": "ipython3",
   "version": "3.7.1"
  }
 },
 "nbformat": 4,
 "nbformat_minor": 2
}
